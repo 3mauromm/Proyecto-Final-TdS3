{
 "cells": [
  {
   "cell_type": "markdown",
   "metadata": {},
   "source": [
    "# Nombre del proyecto\n",
    "\n",
    "## Presentado por: Óscar Mauricio Morales Mejía (omauricio.morales@udea.edu.co)\n",
    "### Estudiante de la Ingeniería de Telecomunicaciones\n",
    "### Universidad de Antioquia\n",
    "\n",
    "## Tratamiento de señales 3"
   ]
  },
  {
   "cell_type": "markdown",
   "metadata": {},
   "source": [
    "### Resumen\n",
    "Aquí va el resumen"
   ]
  },
  {
   "cell_type": "markdown",
   "metadata": {},
   "source": [
    "### Introdución\n",
    "Aquí va la introducción, el planteamiento del problema, la motivación y la justificación\n",
    "\n",
    "#### Planteamiento del problema\n",
    "La integración de la fibra óptica a los sistema de comunicación trae consigo muchos beneficios en varios aspectos. Entre ellos se encuentra, por ejemplo, el aumento en la velocidad de transmisión. Sin embargo también supone diferentes retos técnicos y físicos, los cuales debe ser resueltos en pro del desarrollo de este tipo de transporte de información.\n",
    "Uno de los inconvenientes más significativos de la transmisión por fibra óptica es la forma en la que se modela el ruido. A diferencia de los sistemas eléctricos convencionales, cuyo ruido puede modelarse como un función aleatoria de distribución gaussiana, en los sistemas ópticos se presentan, adicionalmente, fenómenos no lineales que no se pueden modelar fácilmente.\n",
    "Este tipo de ruido es capaz de deteriorar las constelaciones en sistemas que trabajan con modulación por cuadratura, como 16QAM, al punto en el que los métodos de demodulación tradicionales, que entregan buenos resultados en sistemas eléctricos, dejan de ser efectivos. Por esta razón la tasa de error de bit aumenta y el sistema de transmisión por fibra óptica se vuelve ineficiente. La ventaja de las altas velocidades de transmisión se ve opacada si no existe un esquema de demodulación que permita tasa de error controladas. Este problema se presenta debido a la rigidez existente en los umbrales de decisión que se ubican en el mapa de constelación en el proceso de demodulación, los cuales son estáticos, rectilineos y equiespaciados.\n",
    "\n"
   ]
  },
  {
   "cell_type": "markdown",
   "metadata": {},
   "source": [
    "### Estado del arte\n",
    "Aquí va el estado del arte\n",
    "\n",
    "#### Confiabilidad de las fuentes\n",
    "\n",
    "Todos los artículos presentados a continuación fueron publicados por la IEEE, la cual es una organización que goza de gran prestigio en la comunidad científica e ingenieril y tiene altos estándares de calidad en la revisión de la literatura que añaden a su base bibliográfica.\n",
    "\n",
    "##### Machine Learning Techniques in Optical Communication:\n",
    "https://ieeexplore.ieee.org/abstract/document/7359099 \n",
    "Este artículo fue pulicado en el Journal of Lightwave Technology, el cual cuenta con una clasificación Q1 desde hace casi 20 años y ostenta un índice h de 182. https://www.scimagojr.com/journalsearch.php?q=12178&tip=sid\n",
    "El artículo fue escrito por diferentes autores entre los que destacan 2:\n",
    "- Darko Zibar: Es profesor asociado de la Technical University of Denmark, trabaja en comunicaciones ópticas, aprendizaje de máquina y fotónica y posee un índice h de 30. https://scholar.google.es/citations?hl=es&user=ir13bnAAAAAJ\n",
    "- Molly Piels: Asociada a la Technical University of Denmark, ha sido citada 931 veces y cuenta con un índice h de 14. https://scholar.google.es/citations?hl=es&user=zLWgp4sAAAAJ\n",
    "\n",
    "#### Adaptive nonsymmetrical demodulation based on machine learning to mitigate time-varying impairments\n",
    "https://ieeexplore.ieee.org/document/7789906\n",
    "Publicado en la Conferencia IEEE Avionics and Vehicle Fiber-Optics and Photonics (AVFOP).\n",
    "Entre los autores del artículo se destaca:\n",
    "- Andrea Chiuchiarelli: Quien trabaja para la Universidad Federal de Minas Gerais, cuenta con 294 citaciones desde el 2015 y un índice h de 12. https://scholar.google.es/citations?hl=es&user=pJA06u4AAAAJ\n",
    "\n",
    "#### Demodulation of m-ary non-symmetrical constellations using clustering techniques in optical communication systems\n",
    "https://ieeexplore.ieee.org/document/7885720 El cual fue publicado en la IEEE Latin American Conference on Computational Intelligence (LA-CCI).\n",
    "Uno de los autores del artículo tiene el perfil más destacado, este es:\n",
    "- Neil Guerrero: Quien trabaja en la Universidad Nacional de Colombia, tiene 613 citas desde el 2015, donde 20 de ellas se han realizado en lo corrido del año 2020 y su índice h es de 17. https://scholar.google.es/citations?hl=es&user=5IApxMsAAAAJ\n",
    "\n",
    "\n"
   ]
  },
  {
   "cell_type": "markdown",
   "metadata": {},
   "source": [
    "### Marco Experimental\n",
    "Aquí va el marco experimental"
   ]
  },
  {
   "cell_type": "markdown",
   "metadata": {},
   "source": [
    "### Resultados experimentales\n",
    "Aquí van los resultados experimentales"
   ]
  },
  {
   "cell_type": "markdown",
   "metadata": {},
   "source": [
    "### Discusión\n",
    "Aquí se presenta una discusión sobre los resultados"
   ]
  },
  {
   "cell_type": "markdown",
   "metadata": {},
   "source": [
    "### Conclusiones\n",
    "Aquí se escriben las conclusiones"
   ]
  },
  {
   "cell_type": "markdown",
   "metadata": {},
   "source": [
    "### Bibliografía\n",
    "Aquí va la bibliografía"
   ]
  },
  {
   "cell_type": "code",
   "execution_count": null,
   "metadata": {},
   "outputs": [],
   "source": []
  }
 ],
 "metadata": {
  "kernelspec": {
   "display_name": "Python 3",
   "language": "python",
   "name": "python3"
  },
  "language_info": {
   "codemirror_mode": {
    "name": "ipython",
    "version": 3
   },
   "file_extension": ".py",
   "mimetype": "text/x-python",
   "name": "python",
   "nbconvert_exporter": "python",
   "pygments_lexer": "ipython3",
   "version": "3.7.3"
  }
 },
 "nbformat": 4,
 "nbformat_minor": 2
}
